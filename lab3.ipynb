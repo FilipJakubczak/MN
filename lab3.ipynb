{
 "cells": [
  {
   "cell_type": "code",
   "execution_count": 2,
   "metadata": {},
   "outputs": [],
   "source": [
    "import numpy as np\n",
    "from scipy.linalg import lu"
   ]
  },
  {
   "cell_type": "code",
   "execution_count": 251,
   "metadata": {},
   "outputs": [],
   "source": [
    "def isSquare(matrix: np.ndarray) -> bool: \n",
    "    return all(len(row) == len(matrix) for row in matrix)\n",
    "\n",
    "def luDecomp(matrix: np.ndarray) -> (np.ndarray, np.ndarray):\n",
    "    upper = np.zeros((len(matrix), len(matrix)))\n",
    "    lower = np.zeros((len(matrix), len(matrix)))\n",
    "    if not isSquare(matrix):\n",
    "        print(\"Matrix isn't square!\")\n",
    "        return\n",
    "    for i in range(len(matrix)):\n",
    "        lower[i][i] = 1\n",
    "        for j in range(i + 1):\n",
    "            s = 0\n",
    "            for k in range(j):\n",
    "                s += lower[j][k] * upper[k][i]\n",
    "            upper[j][i] = matrix[j][i] - s\n",
    "        for j in range(i + 1, len(a)):\n",
    "            s = 0\n",
    "            for k in range(i):\n",
    "                s += lower[j][k] * upper[k][i]\n",
    "            lower[j][i] = (matrix[j][i] - s) / upper[i][i]\n",
    "    return upper, lower\n",
    "\n",
    "def printMatrix(matrix: np.ndarray, label: str = None):\n",
    "    if label != None:\n",
    "        print(label)\n",
    "    for row in matrix:\n",
    "        for element in row:\n",
    "            print('{:<7.2f}'.format(element), end='')\n",
    "        print()"
   ]
  },
  {
   "cell_type": "code",
   "execution_count": 245,
   "metadata": {},
   "outputs": [],
   "source": [
    "eq = np.array([[9, 8, -2, 2, -2],\n",
    "               [7, -3, -2, 7, 2],\n",
    "               [2, -2, 2, -7, 6],\n",
    "               [4, 8, -3, 3, -1],\n",
    "               [2, 2, -1, 1, 4]])"
   ]
  },
  {
   "cell_type": "code",
   "execution_count": 246,
   "metadata": {},
   "outputs": [],
   "source": [
    "upper, lower = luDecomp(eq)\n",
    "upper_lu, lower_lu = lu(eq)[2], lu(eq)[1]"
   ]
  },
  {
   "cell_type": "code",
   "execution_count": 252,
   "metadata": {},
   "outputs": [
    {
     "name": "stdout",
     "output_type": "stream",
     "text": [
      "input matrix\n",
      "9.00   8.00   -2.00  2.00   -2.00  \n",
      "7.00   -3.00  -2.00  7.00   2.00   \n",
      "2.00   -2.00  2.00   -7.00  6.00   \n",
      "4.00   8.00   -3.00  3.00   -1.00  \n",
      "2.00   2.00   -1.00  1.00   4.00   \n",
      "upper\n",
      "9.00   8.00   -2.00  2.00   -2.00  \n",
      "0.00   -9.22  -0.44  5.44   3.56   \n",
      "0.00   0.00   2.63   -9.67  4.99   \n",
      "0.00   0.00   0.00   -3.83  6.02   \n",
      "0.00   0.00   0.00   0.00   3.41   \n",
      "lower\n",
      "1.00   0.00   0.00   0.00   0.00   \n",
      "0.78   1.00   0.00   0.00   0.00   \n",
      "0.22   0.41   1.00   0.00   0.00   \n",
      "0.44   -0.48  -0.89  1.00   0.00   \n",
      "0.22   -0.02  -0.22  0.37   1.00   \n"
     ]
    }
   ],
   "source": [
    "printMatrix(eq, 'input matrix')\n",
    "printMatrix(upper, 'upper')\n",
    "printMatrix(lower, 'lower')"
   ]
  },
  {
   "cell_type": "code",
   "execution_count": 253,
   "metadata": {},
   "outputs": [
    {
     "name": "stdout",
     "output_type": "stream",
     "text": [
      "upper_lu\n",
      "9.00   8.00   -2.00  2.00   -2.00  \n",
      "0.00   -9.22  -0.44  5.44   3.56   \n",
      "0.00   0.00   2.63   -9.67  4.99   \n",
      "0.00   0.00   0.00   -3.83  6.02   \n",
      "0.00   0.00   0.00   0.00   3.41   \n",
      "lower_lu\n",
      "1.00   0.00   0.00   0.00   0.00   \n",
      "0.78   1.00   0.00   0.00   0.00   \n",
      "0.22   0.41   1.00   0.00   0.00   \n",
      "0.44   -0.48  -0.89  1.00   0.00   \n",
      "0.22   -0.02  -0.22  0.37   1.00   \n"
     ]
    }
   ],
   "source": [
    "printMatrix(upper_lu, 'upper_lu')\n",
    "printMatrix(lower_lu, 'lower_lu')"
   ]
  },
  {
   "cell_type": "code",
   "execution_count": null,
   "metadata": {},
   "outputs": [],
   "source": []
  }
 ],
 "metadata": {
  "kernelspec": {
   "display_name": "Python 3",
   "language": "python",
   "name": "python3"
  },
  "language_info": {
   "codemirror_mode": {
    "name": "ipython",
    "version": 3
   },
   "file_extension": ".py",
   "mimetype": "text/x-python",
   "name": "python",
   "nbconvert_exporter": "python",
   "pygments_lexer": "ipython3",
   "version": "3.8.2"
  }
 },
 "nbformat": 4,
 "nbformat_minor": 4
}
