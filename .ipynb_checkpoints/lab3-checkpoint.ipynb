{
 "cells": [
  {
   "cell_type": "code",
   "execution_count": 2,
   "metadata": {},
   "outputs": [],
   "source": [
    "import numpy as np\n",
    "from scipy.linalg import lu"
   ]
  },
  {
   "cell_type": "code",
   "execution_count": 52,
   "metadata": {},
   "outputs": [],
   "source": [
    "def isSquare(m): \n",
    "    return all(len(row) == len(m) for row in m)\n",
    "\n",
    "def luDecomp(a, upper, lower):\n",
    "    upper = np.zeros((len(a), len(a)))\n",
    "    lower = np.zeros((len(a), len(a)))\n",
    "    if not isSquare(a):\n",
    "        print(\"Matrix isn't square!\")\n",
    "        return\n",
    "    for i in range(len(a)):\n",
    "        for j in range(i):\n",
    "            upper[j][i] = upper[j][i] - sum(upper[j] * upper[k])"
   ]
  },
  {
   "cell_type": "code",
   "execution_count": 46,
   "metadata": {},
   "outputs": [],
   "source": [
    "eq = np.array([[9, 8, -2, 2, -2],\n",
    "               [7, -3, -2, 7, 2],\n",
    "               [2, -2, 2, -7, 6],\n",
    "               [4, 8, -3, 3, -1],\n",
    "               [2, 2, -1, 1, 4]])"
   ]
  },
  {
   "cell_type": "code",
   "execution_count": 53,
   "metadata": {},
   "outputs": [],
   "source": [
    "luDecomposition(eq)"
   ]
  },
  {
   "cell_type": "code",
   "execution_count": 42,
   "metadata": {},
   "outputs": [
    {
     "name": "stdout",
     "output_type": "stream",
     "text": [
      "0.0\t0.0\t0.0\t0.0\t0.0\t\n",
      "0.0\t0.0\t0.0\t0.0\t0.0\t\n",
      "0.0\t0.0\t0.0\t0.0\t0.0\t\n",
      "0.0\t0.0\t0.0\t0.0\t0.0\t\n",
      "0.0\t0.0\t0.0\t0.0\t0.0\t\n"
     ]
    }
   ],
   "source": [
    "for i in range(len(eq)):\n",
    "    for j in range(len(eq)): \n",
    "        print(upper[i][j], end = \"\\t\"); \n",
    "    print(\"\");"
   ]
  },
  {
   "cell_type": "code",
   "execution_count": 38,
   "metadata": {},
   "outputs": [
    {
     "data": {
      "text/plain": [
       "range(0, 5)"
      ]
     },
     "execution_count": 38,
     "metadata": {},
     "output_type": "execute_result"
    }
   ],
   "source": []
  },
  {
   "cell_type": "code",
   "execution_count": null,
   "metadata": {},
   "outputs": [],
   "source": []
  }
 ],
 "metadata": {
  "kernelspec": {
   "display_name": "Python 3",
   "language": "python",
   "name": "python3"
  },
  "language_info": {
   "codemirror_mode": {
    "name": "ipython",
    "version": 3
   },
   "file_extension": ".py",
   "mimetype": "text/x-python",
   "name": "python",
   "nbconvert_exporter": "python",
   "pygments_lexer": "ipython3",
   "version": "3.8.2"
  }
 },
 "nbformat": 4,
 "nbformat_minor": 4
}
