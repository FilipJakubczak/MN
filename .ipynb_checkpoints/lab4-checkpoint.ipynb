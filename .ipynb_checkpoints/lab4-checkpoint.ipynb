{
 "cells": [
  {
   "cell_type": "code",
   "execution_count": 162,
   "metadata": {},
   "outputs": [],
   "source": [
    "import numpy as np\n",
    "import matplotlib.pyplot as plt\n",
    "from matplotlib.ticker import MaxNLocator"
   ]
  },
  {
   "cell_type": "code",
   "execution_count": 244,
   "metadata": {},
   "outputs": [],
   "source": [
    "def calc_eigen_max(matrix: np.ndarray, init_vector: np.ndarray = None, random_state: int = None,\n",
    "                   n_iter: np.uint32 = 10) -> (np.ndarray, np.float64):\n",
    "    if init_vector == None:\n",
    "        r_gen = np.random.RandomState(random_state)\n",
    "        init_vector = r_gen.random((matrix.shape[-1], 1)).reshape((matrix.shape[-1], ))\n",
    "    if matrix.shape[-1] != matrix.shape[-2]:\n",
    "        raise Exception('Last 2 dimensions of the matrix must be square.')\n",
    "    init_vector_normalized = init_vector / np.linalg.norm(init_vector)\n",
    "    eigen_vector = init_vector_normalized\n",
    "    for _ in range(n_iter):\n",
    "        eigen_vector = np.dot(matrix, eigen_vector)\n",
    "        eigen_vector = eigen_vector / np.linalg.norm(eigen_vector)\n",
    "    eigen_value = np.dot(np.dot(eigen_vector, matrix), eigen_vector)\n",
    "        \n",
    "    return eigen_value, eigen_vector\n",
    "\n",
    "def print_matrix(matrix: np.ndarray, label: str = None) -> None:\n",
    "    if label != None:\n",
    "        print(label + ':')\n",
    "    if len(matrix.shape) == 1:\n",
    "        print('[', end='  ')\n",
    "        for element in matrix:\n",
    "            print('{:<7.3f}'.format(element), end='')\n",
    "        print(']', end='')\n",
    "    else:\n",
    "        for row in matrix:\n",
    "            for element in row:\n",
    "                print('{:<7.3f}'.format(element), end='')\n",
    "            print()\n",
    "    print()"
   ]
  },
  {
   "cell_type": "code",
   "execution_count": 245,
   "metadata": {},
   "outputs": [],
   "source": [
    "eq = np.array([[6, 5, -5],\n",
    "               [2, 6, -2],\n",
    "               [2, 5, -1]])"
   ]
  },
  {
   "cell_type": "code",
   "execution_count": 246,
   "metadata": {},
   "outputs": [
    {
     "data": {
      "image/png": "[encoded data removed]",
      "text/plain": [
       "<Figure size 432x288 with 1 Axes>"
      ]
     },
     "metadata": {
      "needs_background": "light"
     },
     "output_type": "display_data"
    }
   ],
   "source": [
    "#Eigen value vs number of iterations \n",
    "iter_range = np.arange(10, 50)\n",
    "eigen_values = [calc_eigen_max(eq, n_iter=value, random_state=1)[0] for value in iter_range]\n",
    "fig, ax = plt.subplots()\n",
    "ax.plot(iter_range, eigen_values)\n",
    "plt.xlabel('Number of iterations')\n",
    "plt.ylabel('Eigen value')\n",
    "ax.xaxis.set_major_locator(MaxNLocator(integer=True))\n",
    "plt.show()"
   ]
  },
  {
   "cell_type": "code",
   "execution_count": 247,
   "metadata": {},
   "outputs": [],
   "source": [
    "#Power method\n",
    "v, w = calc_eigen_max(eq, n_iter=50, random_state=1)\n",
    "#np.linalg.eig\n",
    "v_np, w_np = np.linalg.eig(eq)\n",
    "w_np = w_np[:, np.argmax(np.abs(v_np))]\n",
    "v_np = np.max(np.abs(v_np))"
   ]
  },
  {
   "cell_type": "code",
   "execution_count": 248,
   "metadata": {},
   "outputs": [
    {
     "name": "stdout",
     "output_type": "stream",
     "text": [
      "Given matrix:\n",
      "6.000  5.000  -5.000 \n",
      "2.000  6.000  -2.000 \n",
      "2.000  5.000  -1.000 \n",
      "\n",
      "Max eigen value(power method): 6.000\n",
      "\n",
      "Corresponding eigen vector(power method):\n",
      "[  0.577  0.577  0.577  ]\n",
      "\n",
      "Max eigen value(numpy.linalg.eig): 6.000\n",
      "\n",
      "Corresponding eigen vector(power method):\n",
      "[  0.577  0.577  0.577  ]\n"
     ]
    }
   ],
   "source": [
    "#Given matrix\n",
    "print_matrix(eq, label='Given matrix')\n",
    "#Power method max eigen value\n",
    "print('Max eigen value(power method):', '{:.3f}\\n'.format(v))\n",
    "#Power method corresponding eigen vector\n",
    "print_matrix(w, label='Corresponding eigen vector(power method)')\n",
    "#numpy.linalg.eig max eigen value\n",
    "print('\\nMax eigen value(numpy.linalg.eig):', '{:.3f}\\n'.format(v_np))\n",
    "#numpy.linalg.eig corresponding eigen vector\n",
    "print_matrix(w_np, label='Corresponding eigen vector(power method)')"
   ]
  },
  {
   "cell_type": "code",
   "execution_count": null,
   "metadata": {},
   "outputs": [],
   "source": []
  }
 ],
 "metadata": {
  "kernelspec": {
   "display_name": "Python 3",
   "language": "python",
   "name": "python3"
  },
  "language_info": {
   "codemirror_mode": {
    "name": "ipython",
    "version": 3
   },
   "file_extension": ".py",
   "mimetype": "text/x-python",
   "name": "python",
   "nbconvert_exporter": "python",
   "pygments_lexer": "ipython3",
   "version": "3.8.2"
  }
 },
 "nbformat": 4,
 "nbformat_minor": 4
}
